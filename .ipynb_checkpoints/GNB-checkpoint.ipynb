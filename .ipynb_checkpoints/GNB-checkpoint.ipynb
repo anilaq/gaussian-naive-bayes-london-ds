{
 "cells": [
  {
   "cell_type": "markdown",
   "metadata": {},
   "source": [
    "# Gaussian Naive Bayes"
   ]
  },
  {
   "cell_type": "markdown",
   "metadata": {},
   "source": [
    "This notebook has the code needed in order to run the materials for the [London Flatiron School](https://flatironschool.com/campuses/london) Gaussian Naive Bayes lecture!!\n",
    "\n",
    "Here we continue on our example from the slides looking at predicting if we should put people in the basic or \\~gold\\~ membership. \n",
    "\n"
   ]
  },
  {
   "cell_type": "code",
   "execution_count": 93,
   "metadata": {},
   "outputs": [],
   "source": [
    "# The Good Ol' Boys\n",
    "import pandas as pd\n",
    "import seaborn as sns\n",
    "import numpy as np\n",
    "\n",
    "# New Kids on the Block \n",
    "from sklearn.datasets import load_iris\n",
    "from sklearn.model_selection import train_test_split\n",
    "from sklearn.naive_bayes import GaussianNB"
   ]
  },
  {
   "cell_type": "code",
   "execution_count": 94,
   "metadata": {},
   "outputs": [],
   "source": [
    "casino_data = pd.read_csv(\"data/casino_data.csv\")"
   ]
  },
  {
   "cell_type": "code",
   "execution_count": 95,
   "metadata": {},
   "outputs": [
    {
     "data": {
      "text/html": [
       "<div>\n",
       "<style scoped>\n",
       "    .dataframe tbody tr th:only-of-type {\n",
       "        vertical-align: middle;\n",
       "    }\n",
       "\n",
       "    .dataframe tbody tr th {\n",
       "        vertical-align: top;\n",
       "    }\n",
       "\n",
       "    .dataframe thead th {\n",
       "        text-align: right;\n",
       "    }\n",
       "</style>\n",
       "<table border=\"1\" class=\"dataframe\">\n",
       "  <thead>\n",
       "    <tr style=\"text-align: right;\">\n",
       "      <th></th>\n",
       "      <th>id</th>\n",
       "      <th>age</th>\n",
       "      <th>income</th>\n",
       "      <th>status</th>\n",
       "    </tr>\n",
       "  </thead>\n",
       "  <tbody>\n",
       "    <tr>\n",
       "      <th>0</th>\n",
       "      <td>1</td>\n",
       "      <td>38.778154</td>\n",
       "      <td>41082.064284</td>\n",
       "      <td>Basic</td>\n",
       "    </tr>\n",
       "    <tr>\n",
       "      <th>1</th>\n",
       "      <td>2</td>\n",
       "      <td>55.919920</td>\n",
       "      <td>39828.545395</td>\n",
       "      <td>Basic</td>\n",
       "    </tr>\n",
       "    <tr>\n",
       "      <th>2</th>\n",
       "      <td>3</td>\n",
       "      <td>63.356784</td>\n",
       "      <td>58213.502386</td>\n",
       "      <td>Gold</td>\n",
       "    </tr>\n",
       "    <tr>\n",
       "      <th>3</th>\n",
       "      <td>4</td>\n",
       "      <td>53.654673</td>\n",
       "      <td>27516.380548</td>\n",
       "      <td>Basic</td>\n",
       "    </tr>\n",
       "    <tr>\n",
       "      <th>4</th>\n",
       "      <td>5</td>\n",
       "      <td>58.986434</td>\n",
       "      <td>47002.098777</td>\n",
       "      <td>Gold</td>\n",
       "    </tr>\n",
       "  </tbody>\n",
       "</table>\n",
       "</div>"
      ],
      "text/plain": [
       "   id        age        income status\n",
       "0   1  38.778154  41082.064284  Basic\n",
       "1   2  55.919920  39828.545395  Basic\n",
       "2   3  63.356784  58213.502386   Gold\n",
       "3   4  53.654673  27516.380548  Basic\n",
       "4   5  58.986434  47002.098777   Gold"
      ]
     },
     "execution_count": 95,
     "metadata": {},
     "output_type": "execute_result"
    }
   ],
   "source": [
    "casino_data.head()"
   ]
  },
  {
   "cell_type": "code",
   "execution_count": 55,
   "metadata": {},
   "outputs": [
    {
     "name": "stdout",
     "output_type": "stream",
     "text": [
      "Number of mislabeled points out of a total 160 points : 22\n"
     ]
    }
   ],
   "source": [
    "# Separate Out Data ! \n",
    "y = casino_data['status']\n",
    "X = casino_data[['age','income']]\n",
    "\n",
    "# Split Data for TTS\n",
    "X_train, X_test, y_train, y_test = train_test_split(X, y, test_size=0.3, random_state=0)\n",
    "\n",
    "# Instatiate your ML Model \n",
    "gnb = GaussianNB()\n",
    "\n",
    "# Fit that Bad Boy \n",
    "y_pred = gnb.fit(X_train, y_train).predict(X_test)\n",
    "\n",
    "# Where were we wrong? \n",
    "print(\"Number of mislabeled points out of a total %d points : %d\"\n",
    "       % (X_test.shape[0], (y_test != y_pred).sum()))"
   ]
  },
  {
   "cell_type": "code",
   "execution_count": 91,
   "metadata": {},
   "outputs": [
    {
     "name": "stdout",
     "output_type": "stream",
     "text": [
      "We should given Allen: ['Basic']\n",
      "For Dotty we predict: ['Gold']\n",
      "For Janet we predict ['Basic']\n"
     ]
    }
   ],
   "source": [
    "# Let's ask our model what it thinks about our personas:\n",
    "\n",
    "print(\"We should given Allen:\",gnb.predict([[29,37500]]))\n",
    "\n",
    "print(\"For Dotty we predict:\",gnb.predict([[73,78000]]))\n",
    "\n",
    "print(\"For Janet we predict\", gnb.predict([[36,455000]]))"
   ]
  },
  {
   "cell_type": "markdown",
   "metadata": {},
   "source": [
    "## You Try! "
   ]
  },
  {
   "cell_type": "markdown",
   "metadata": {},
   "source": [
    "* First, try to use the boiler plate code above to run this classifier on the `iris` dataset. Try it first with just two classes (subset out the `Setosa` species) then run it and report your results.\n",
    "\n",
    "* Second, see what happens when you run the model with three sub classes. Run that code and then write a paragraph below explaining how this model works in light of what we learned today. Make sure to differentiate between GENERATIVE and DISCRIMINATIVE classes.\n",
    "\n",
    "* If you are able to do both of these, lastly I invite you to try to build up a janky Gaussian Naive Bayes Classifier using JUST numpy This repeats what we do in the GNB labs, so if you don't have time to do this, you can do that there! "
   ]
  },
  {
   "cell_type": "markdown",
   "metadata": {},
   "source": [
    "### Boiler Plate Re-Copy\n",
    "\n",
    "Below, import in the `iris` dataset, drop the `Setosa` species and use the boilerplate code above to run this classifier to see if you can train a model predict between the `virginica` and `versicolor`."
   ]
  },
  {
   "cell_type": "code",
   "execution_count": 96,
   "metadata": {},
   "outputs": [],
   "source": [
    "# your code here! "
   ]
  },
  {
   "cell_type": "markdown",
   "metadata": {},
   "source": [
    "### Multi-Class Predictions"
   ]
  },
  {
   "cell_type": "markdown",
   "metadata": {},
   "source": [
    "Now add `Setosa` back in. Run a new model below. Given what we talked about on how Naive Bayes works in comparison to Logistic Regression, write a paragraph talking about what is going on here. Try to use the terms discriminative and generative in your answer."
   ]
  },
  {
   "cell_type": "code",
   "execution_count": null,
   "metadata": {},
   "outputs": [],
   "source": []
  },
  {
   "cell_type": "markdown",
   "metadata": {},
   "source": [
    "> Tell me about how this work! "
   ]
  },
  {
   "cell_type": "markdown",
   "metadata": {},
   "source": [
    "### Make a Janky Naive Bayes Classifier Using numpy"
   ]
  },
  {
   "cell_type": "code",
   "execution_count": null,
   "metadata": {},
   "outputs": [],
   "source": []
  },
  {
   "cell_type": "code",
   "execution_count": null,
   "metadata": {},
   "outputs": [],
   "source": []
  },
  {
   "cell_type": "code",
   "execution_count": null,
   "metadata": {},
   "outputs": [],
   "source": []
  },
  {
   "cell_type": "code",
   "execution_count": null,
   "metadata": {},
   "outputs": [],
   "source": []
  }
 ],
 "metadata": {
  "kernelspec": {
   "display_name": "Python 3",
   "language": "python",
   "name": "python3"
  },
  "language_info": {
   "codemirror_mode": {
    "name": "ipython",
    "version": 3
   },
   "file_extension": ".py",
   "mimetype": "text/x-python",
   "name": "python",
   "nbconvert_exporter": "python",
   "pygments_lexer": "ipython3",
   "version": "3.7.4"
  }
 },
 "nbformat": 4,
 "nbformat_minor": 2
}
